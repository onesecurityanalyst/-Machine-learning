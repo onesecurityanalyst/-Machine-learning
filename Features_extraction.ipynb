{
 "cells": [
  {
   "cell_type": "code",
   "execution_count": 2,
   "id": "7c9e1c2e",
   "metadata": {},
   "outputs": [],
   "source": [
    "# 1.Domain of the URL (Domain) \n",
    "def getDomain(url): \n",
    "    try:\n",
    "        domain = urlparse(url).netloc\n",
    "        if re.match(r\"^www.\",domain):\n",
    "            domain = domain.replace(\"www.\",\"\")\n",
    "        print(\"Done getDomain\")\n",
    "    except:\n",
    "        print(\"getdomain error\")\n",
    "    return domain"
   ]
  },
  {
   "cell_type": "code",
   "execution_count": null,
   "id": "b9a8bce2",
   "metadata": {},
   "outputs": [],
   "source": [
    "from urllib.parse import urlparse,urlencode\n",
    "import ipaddress\n",
    "import re\n"
   ]
  },
  {
   "cell_type": "code",
   "execution_count": null,
   "id": "448601ef",
   "metadata": {},
   "outputs": [],
   "source": [
    "# 2.Checks for IP address in URL (Have_IP)\n",
    "def havingIP(url):\n",
    "    try:\n",
    "        ipaddress.ip_address(url)\n",
    "        ip = 1\n",
    "        print(\"Done HavingIP\")\n",
    "    except:\n",
    "        ip = 0\n",
    "        print(\"error HavingIP\")\n",
    "    return ip"
   ]
  },
  {
   "cell_type": "code",
   "execution_count": null,
   "id": "e490198b",
   "metadata": {},
   "outputs": [],
   "source": [
    "# 3.Checks the presence of @ in URL (Have_At)\n",
    "def haveAtSign(url):\n",
    "    try:  \n",
    "        if \"@\" in url:\n",
    "            at = 1    \n",
    "        else:\n",
    "            at = 0 \n",
    "        print(\"haveAtSign\")\n",
    "    except:\n",
    "        print (\"Error haveAtSign\")\n",
    "    return at"
   ]
  },
  {
   "cell_type": "code",
   "execution_count": null,
   "id": "fb275d45",
   "metadata": {},
   "outputs": [],
   "source": [
    "# 5.Gives number of '/' in URL (URL_Depth)\n",
    "def getDepth(url):\n",
    "    try:\n",
    "        s = urlparse(url).path.split('/')\n",
    "        depth = 0\n",
    "        for j in range(len(s)):\n",
    "            if len(s[j]) != 0:\n",
    "                depth = depth+1\n",
    "                \n",
    "        print(\"done getDepth\")\n",
    "    except:\n",
    "        print(\"error Getdepth\")\n",
    "    return depth"
   ]
  },
  {
   "cell_type": "code",
   "execution_count": null,
   "id": "1a48bbdf",
   "metadata": {},
   "outputs": [],
   "source": [
    "def getLength(url):\n",
    "    try:\n",
    "        if len(url) < 54:\n",
    "            length = 0         \n",
    "        else:\n",
    "            length = 1 \n",
    "        print(\"done getLength\")\n",
    "    except:\n",
    "        print(\"error getLength\")\n",
    "    return length"
   ]
  },
  {
   "cell_type": "code",
   "execution_count": null,
   "id": "40800afb",
   "metadata": {},
   "outputs": [],
   "source": [
    "def redirection(url):\n",
    "    try:\n",
    "        pos = url.rfind('//')\n",
    "        if pos > 6:\n",
    "            if pos > 7:\n",
    "                print(\"Done Redirection\")\n",
    "                return 1\n",
    "                \n",
    "            else:\n",
    "                print(\"Done Redirection\")\n",
    "                return 0\n",
    "                print(\"Done Redirection\")\n",
    "        else:\n",
    "            print(\"Done Redirection\")\n",
    "            return 0\n",
    "            print(\"Done Redirection\")\n",
    "    except:\n",
    "       print(\"Error Redirection\")\n",
    "        \n"
   ]
  },
  {
   "cell_type": "code",
   "execution_count": null,
   "id": "2215df85",
   "metadata": {},
   "outputs": [],
   "source": [
    "def httpDomain(url):\n",
    "    try:\n",
    "        domain = urlparse(url).netloc\n",
    "        if 'https' in domain:\n",
    "            print(\"Done httpDomian\")\n",
    "            return 1\n",
    "        else:\n",
    "            print(\"Done httpDomian\")\n",
    "            return 0\n",
    "            \n",
    "    except:\n",
    "        print(\"error httpDomain\")"
   ]
  },
  {
   "cell_type": "code",
   "execution_count": null,
   "id": "c6f06acf",
   "metadata": {},
   "outputs": [],
   "source": [
    "shortening_services = r\"bit\\.ly|goo\\.gl|shorte\\.st|go2l\\.ink|x\\.co|ow\\.ly|t\\.co|tinyurl|tr\\.im|is\\.gd|cli\\.gs|\" \\\n",
    "                      r\"yfrog\\.com|migre\\.me|ff\\.im|tiny\\.cc|url4\\.eu|twit\\.ac|su\\.pr|twurl\\.nl|snipurl\\.com|\" \\\n",
    "                      r\"short\\.to|BudURL\\.com|ping\\.fm|post\\.ly|Just\\.as|bkite\\.com|snipr\\.com|fic\\.kr|loopt\\.us|\" \\\n",
    "                      r\"doiop\\.com|short\\.ie|kl\\.am|wp\\.me|rubyurl\\.com|om\\.ly|to\\.ly|bit\\.do|t\\.co|lnkd\\.in|db\\.tt|\" \\\n",
    "                      r\"qr\\.ae|adf\\.ly|goo\\.gl|bitly\\.com|cur\\.lv|tinyurl\\.com|ow\\.ly|bit\\.ly|ity\\.im|q\\.gs|is\\.gd|\" \\\n",
    "                      r\"po\\.st|bc\\.vc|twitthis\\.com|u\\.to|j\\.mp|buzurl\\.com|cutt\\.us|u\\.bb|yourls\\.org|x\\.co|\" \\\n",
    "                      r\"prettylinkpro\\.com|scrnch\\.me|filoops\\.info|vzturl\\.com|qr\\.net|1url\\.com|tweez\\.me|v\\.gd|\" \\\n",
    "                      r\"tr\\.im|link\\.zip\\.net\""
   ]
  },
  {
   "cell_type": "code",
   "execution_count": null,
   "id": "a057739b",
   "metadata": {},
   "outputs": [],
   "source": [
    "def tinyURL(url):\n",
    "    try:\n",
    "        match=re.search(shortening_services,url)\n",
    "        if match:\n",
    "            print(\"done Tinyurl\")\n",
    "            return 1\n",
    "            \n",
    "        else:\n",
    "            print(\"done Tinyurl\")\n",
    "            return 0\n",
    "            print(\"done Tinyurl\")\n",
    "    except:\n",
    "        print(\"error tinyurl\")"
   ]
  },
  {
   "cell_type": "code",
   "execution_count": null,
   "id": "b021c37f",
   "metadata": {},
   "outputs": [],
   "source": [
    "def prefixSuffix(url):\n",
    "    try:\n",
    "        if '-' in urlparse(url).netloc:\n",
    "            print(\"Done prefixsuffix\")\n",
    "            return 1            # phishing\n",
    "        else:\n",
    "            print(\"Done prefixsuffix\")\n",
    "            return 0\n",
    "            \n",
    "    except:\n",
    "        print(\"Error presuffix\")"
   ]
  },
  {
   "cell_type": "code",
   "execution_count": null,
   "id": "378d5929",
   "metadata": {},
   "outputs": [],
   "source": [
    "import re\n",
    "from bs4 import BeautifulSoup\n",
    "#import whois\n",
    "import urllib\n",
    "import urllib.request\n",
    "from datetime import datetime\n",
    "import whois\n",
    "import requests"
   ]
  },
  {
   "cell_type": "code",
   "execution_count": null,
   "id": "e3bb0a79",
   "metadata": {},
   "outputs": [],
   "source": [
    "def dnsRecordInfo(url):\n",
    "    try:\n",
    "        domain_info = whois.whois(urlparse(url).netloc)\n",
    "        print(\"Done dnsRecordInfo\")\n",
    "    except:\n",
    "        print(\"Error dnsRecord\")\n",
    "    return domain_info"
   ]
  },
  {
   "cell_type": "code",
   "execution_count": null,
   "id": "8ffc9a5c",
   "metadata": {},
   "outputs": [],
   "source": [
    "#domain Features\n",
    "#13.Survival time of domain: The difference between termination time and creation time (Domain_Age)  \n",
    "def domainAge(domain_name):\n",
    "    try:\n",
    "      #domain_info = whois.whois(urlparse(url).netloc)\n",
    "        #domain_name=dnsRecordInfo(url)\n",
    "        \n",
    "        creation_date = domain_name.creation_date\n",
    "        expiration_date = domain_name.expiration_date\n",
    "        if (isinstance(creation_date,str) or isinstance(expiration_date,str)):\n",
    "            try:\n",
    "                creation_date = datetime.strptime(creation_date,'%Y-%m-%d')\n",
    "                expiration_date = datetime.strptime(expiration_date,\"%Y-%m-%d\")\n",
    "            except:\n",
    "                print(\"DOne domainAge\")\n",
    "                return 1\n",
    "                \n",
    "        if ((expiration_date is None) or (creation_date is None)):\n",
    "            print(\"DOne domainAge\")\n",
    "            return 1\n",
    "            print(\"DOne domainAge\")\n",
    "        elif ((type(expiration_date) is list) or (type(creation_date) is list)):\n",
    "            print(\"DOne domainAge\")\n",
    "            return 1\n",
    "            print(\"DOne domainAge\")\n",
    "        else:\n",
    "            ageofdomain = abs((expiration_date - creation_date).days)\n",
    "            if ((ageofdomain/30) < 6):\n",
    "                age = 1\n",
    "                print(\"DOne domainAge\")\n",
    "            else:\n",
    "                age = 0\n",
    "                print(\"DOne domainAge\")\n",
    "    except:\n",
    "        print(\"error domainAge\")\n",
    "    return age"
   ]
  },
  {
   "cell_type": "code",
   "execution_count": null,
   "id": "353b69c3",
   "metadata": {},
   "outputs": [],
   "source": [
    "# 14.End time of domain: The difference between termination time and current time (Domain_End) \n",
    "def domainEnd(domain_name):\n",
    "    #domain_name=dnsRecordInfo(url)\n",
    "    try:\n",
    "        expiration_date = domain_name.expiration_date\n",
    "        try:\n",
    "            if isinstance(expiration_date,str):\n",
    "                expiration_date = datetime.strptime(expiration_date,\"%Y-%m-%d\")\n",
    "        except:\n",
    "            print(\"Done Domain End\")\n",
    "            return 1\n",
    "            \n",
    "            \n",
    "        if (expiration_date is None):\n",
    "            print(\"Done Domain End\")\n",
    "            return 1\n",
    "            \n",
    "        elif (type(expiration_date) is list):\n",
    "            print(\"Done Domain End\")\n",
    "            return 1\n",
    "           \n",
    "        else:\n",
    "            today = datetime.now()\n",
    "            end = abs((expiration_date - today).days)\n",
    "            if ((end/30) < 6):\n",
    "                end = 0\n",
    "                print(\"Done Domain End\")\n",
    "            else:\n",
    "                end = 1\n",
    "                print(\"Done Domain End\")\n",
    "    except:\n",
    "        print(\"Error domainEnd\")\n",
    "    return end"
   ]
  },
  {
   "cell_type": "code",
   "execution_count": null,
   "id": "b3f8b55b",
   "metadata": {},
   "outputs": [],
   "source": [
    "def getResponse(url):\n",
    "    try:\n",
    "        response = requests.get(url)\n",
    "        #print(response.text)\n",
    "    except:response= \"\"\n",
    "    return response\n",
    "    "
   ]
  },
  {
   "cell_type": "code",
   "execution_count": null,
   "id": "3a5b5654",
   "metadata": {},
   "outputs": [],
   "source": [
    "# 12.Web traffic (Web_Traffic)\n",
    "\"\"\"\" def web_traffic(url):\n",
    "  try:\n",
    "    #Filling the whitespaces in the URL if any\n",
    "    url = urllib.parse.quote(url)\n",
    "    rank = BeautifulSoup(urllib.request.urlopen(\"https://www.spyfu.com/overview/domain?query=\" + url).read(), \"xml\").find(\n",
    "        \"REACH\")['RANK']\n",
    "    rank = int(rank)\n",
    "  except TypeError:\n",
    "        return 1\n",
    "  if rank <100000:\n",
    "    return 1\n",
    "  else:\n",
    "    return 0\n",
    "\"\"\"\n",
    "def web_traffic(url):\n",
    "    print(\"Done Web_traffic\")\n",
    "    return 1"
   ]
  },
  {
   "cell_type": "code",
   "execution_count": null,
   "id": "f40da1f9",
   "metadata": {},
   "outputs": [],
   "source": [
    "def iframe(url):\n",
    "    try:\n",
    "        response=getResponse(url)\n",
    "        if response == \"\":\n",
    "            print(\"Done iframe\")\n",
    "            return 1\n",
    "            \n",
    "        else:\n",
    "            if re.findall(r\"[<iframe>|<frameBorder>]\", response.text):\n",
    "                print(\"Done iframe\")\n",
    "                return 0\n",
    "                \n",
    "            else:\n",
    "                print(\"Done iframe\")\n",
    "                return 1\n",
    "                \n",
    "    except:\n",
    "        print(\"erroriframe\")"
   ]
  },
  {
   "cell_type": "code",
   "execution_count": null,
   "id": "cdc6a124",
   "metadata": {},
   "outputs": [],
   "source": [
    "# 16.Checks the effect of mouse over on status bar (Mouse_Over)\n",
    "def mouseOver(url):\n",
    "    try:\n",
    "        response=getResponse(url)\n",
    "        if response == \"\" :\n",
    "            print(\"Done mouseOver\")\n",
    "            return 1\n",
    "            \n",
    "        else:\n",
    "            if re.findall(\"<script>.+onmouseover.+</script>\", response.text):\n",
    "                print(\"Done mouseOver\")\n",
    "                return 1\n",
    "              \n",
    "            else:\n",
    "                print(\"Done mouseOver\")\n",
    "                return 0\n",
    "                \n",
    "    except:\n",
    "        print(\"Error mouseover\" )\n"
   ]
  },
  {
   "cell_type": "code",
   "execution_count": null,
   "id": "25dc6b1d",
   "metadata": {},
   "outputs": [],
   "source": [
    "# 17.Checks the status of the right click attribute (Right_Click)\n",
    "def rightClick(url):\n",
    "    try:\n",
    "        response=getResponse(url)\n",
    "        if response == \"\":\n",
    "            print(\"Done rightClick\")\n",
    "            return 1\n",
    "            \n",
    "        else:\n",
    "            if re.findall(r\"event.button ?== ?2\", response.text):\n",
    "                print(\"Done rightClick\")\n",
    "                return 0\n",
    "                \n",
    "            else:\n",
    "                return 1\n",
    "                print(\"Done rightClick\")\n",
    "    except:\n",
    "        print(\"error rightClick\")"
   ]
  },
  {
   "cell_type": "code",
   "execution_count": null,
   "id": "d3e7f4ff",
   "metadata": {},
   "outputs": [],
   "source": [
    "def forwarding(url):\n",
    "    try:\n",
    "        response=getResponse(url)\n",
    "        if response == \"\":\n",
    "            print(\"Done forwarding\")\n",
    "            return 1\n",
    "            \n",
    "        else:\n",
    "            if len(response.history) <= 2:\n",
    "                print(\"Done forwarding\")\n",
    "                return 0\n",
    "               \n",
    "            else:\n",
    "                print(\"Done forwarding\")\n",
    "                return 1\n",
    "               \n",
    "    except:\n",
    "        print(\"error forwarding\")"
   ]
  },
  {
   "cell_type": "code",
   "execution_count": null,
   "id": "f5e47147",
   "metadata": {},
   "outputs": [],
   "source": [
    "def featureExtraction(url,label):\n",
    "    features = []\n",
    "    print(url)\n",
    "    #Address bar based features (10)\n",
    "    features.append(getDomain(url))\n",
    "    features.append(havingIP(url))\n",
    "    features.append(haveAtSign(url))\n",
    "    features.append(getLength(url))\n",
    "    features.append(getDepth(url))\n",
    "    features.append(redirection(url))\n",
    "    features.append(httpDomain(url))\n",
    "    features.append(tinyURL(url))\n",
    "    features.append(prefixSuffix(url))\n",
    "    \n",
    "    #Domain based features (4)\n",
    "    #domain_info=dnsRecordInfo(url)\n",
    "    dns = 0\n",
    "    try:\n",
    "        domain_info = whois.whois(urlparse(url).netloc)\n",
    "        print(\"Done whois\")\n",
    "    except:\n",
    "        dns = 1\n",
    "        print(\"error whois\")\n",
    "    features.append(dns)\n",
    "    features.append(web_traffic(url))\n",
    "    features.append(1 if dns == 1 else domainAge(domain_info))\n",
    "    features.append(1 if dns == 1 else domainEnd(domain_info))\n",
    "    \n",
    "    # HTML & Javascript based features (4)\n",
    "    features.append(iframe(url))\n",
    "    features.append(mouseOver(url))\n",
    "    features.append(rightClick(url))\n",
    "    features.append(forwarding(url))\n",
    "    features.append(label)\n",
    "    return features"
   ]
  },
  {
   "cell_type": "code",
   "execution_count": null,
   "id": "45b7cf11",
   "metadata": {},
   "outputs": [],
   "source": [
    "import pandas as pd"
   ]
  },
  {
   "cell_type": "code",
   "execution_count": null,
   "id": "8971e840",
   "metadata": {},
   "outputs": [],
   "source": [
    "data0 = pd.read_csv(\"verified_online.csv\")\n",
    "data0.head()"
   ]
  },
  {
   "cell_type": "code",
   "execution_count": null,
   "id": "7a94676a",
   "metadata": {},
   "outputs": [],
   "source": [
    "data0.shape"
   ]
  },
  {
   "cell_type": "code",
   "execution_count": null,
   "id": "56efe56c",
   "metadata": {},
   "outputs": [],
   "source": [
    "#Collecting 5,000 Phishing URLs randomly\n",
    "phishurl = data0.sample(n = 48674, random_state = 12).copy()\n",
    "phishurl = phishurl.reset_index(drop=True)\n",
    "phishurl.head()"
   ]
  },
  {
   "cell_type": "code",
   "execution_count": null,
   "id": "2053545a",
   "metadata": {},
   "outputs": [],
   "source": [
    "#Loading legitimate files \n",
    "data1 = pd.read_csv(\"Benign_list_big_final.csv\")\n",
    "data1.columns = ['URLs']\n",
    "data1.head()"
   ]
  },
  {
   "cell_type": "code",
   "execution_count": null,
   "id": "f64624b3",
   "metadata": {},
   "outputs": [],
   "source": [
    "data1.shape"
   ]
  },
  {
   "cell_type": "code",
   "execution_count": null,
   "id": "cd549261",
   "metadata": {},
   "outputs": [],
   "source": [
    "#Collecting 5,000 Legitimate URLs randomly\n",
    "legiurl = data1.sample(n = 5000, random_state = 12).copy()\n",
    "legiurl = legiurl.reset_index(drop=True)\n",
    "legiurl.head()"
   ]
  },
  {
   "cell_type": "code",
   "execution_count": null,
   "id": "c8b7976a",
   "metadata": {},
   "outputs": [],
   "source": [
    "#Extracting the feautres & storing them in a list\n",
    "legi_features = []\n",
    "label = 0\n",
    "for i in range(0, 35377):\n",
    "    url = legiurl['URLs'][i]\n",
    "    legi_features.append(featureExtraction(url,label))\n",
    "    \n"
   ]
  },
  {
   "cell_type": "code",
   "execution_count": null,
   "id": "6424d217",
   "metadata": {},
   "outputs": [],
   "source": [
    "#converting the list to dataframe\n",
    "feature_names = ['Domain', 'Have_IP', 'Have_At', 'URL_Length', 'URL_Depth','Redirection', \n",
    "                      'https_Domain', 'TinyURL', 'Prefix/Suffix', 'DNS_Record', 'Web_Traffic', \n",
    "                      'Domain_Age', 'Domain_End', 'iFrame', 'Mouse_Over','Right_Click', 'Web_Forwards', 'Label']\n",
    "\n"
   ]
  },
  {
   "cell_type": "code",
   "execution_count": null,
   "id": "ece25c43",
   "metadata": {},
   "outputs": [],
   "source": [
    "phish_features = []\n",
    "label = 1\n",
    "for i in range(0, 5000):\n",
    "    url = phishurl['url'][i]\n",
    "    phish_features.append(featureExtraction(url,label))\n",
    "\n",
    "        \n"
   ]
  },
  {
   "cell_type": "code",
   "execution_count": null,
   "id": "c83ffdd5",
   "metadata": {},
   "outputs": [],
   "source": [
    "\n",
    "#import threading\n",
    "#t1 = threading.Thread(target=legiFeatures, args=(legiurl,))\n",
    "#t2 = threading.Thread(target=phishFeatures, args=(phishurl,))\n",
    "# starting thread 1\n",
    "#t1.start()\n",
    "  # starting thread 2\n",
    "#t2.start()\n",
    " \n",
    "# wait until thread 1 is completely executed\n",
    "#t1.join()\n",
    "# wait until thread 2 is completely executed\n",
    "#t2.join()\n",
    "#print(\"Done\")\n",
    "\n",
    "legitimate = pd.DataFrame(legi_features, columns= feature_names)\n",
    "legitimate.tail()\n",
    "phishing = pd.DataFrame(phish_features, columns= feature_names)\n",
    "phishing.head()\n"
   ]
  },
  {
   "cell_type": "code",
   "execution_count": null,
   "id": "4ee01261",
   "metadata": {},
   "outputs": [],
   "source": [
    "# Storing the extracted legitimate URLs fatures to csv file\n",
    "\n",
    "phishing.to_csv('phishing.csv', index= False)"
   ]
  },
  {
   "cell_type": "code",
   "execution_count": null,
   "id": "59ea6e30",
   "metadata": {},
   "outputs": [],
   "source": [
    "# Storing the extracted legitimate URLs fatures to csv file\n",
    "legitimate.to_csv('legitimate.csv', index= False)"
   ]
  },
  {
   "cell_type": "code",
   "execution_count": null,
   "id": "7f945543",
   "metadata": {},
   "outputs": [],
   "source": [
    "phishing.shape"
   ]
  },
  {
   "cell_type": "code",
   "execution_count": null,
   "id": "d77339ec",
   "metadata": {},
   "outputs": [],
   "source": [
    "legitimate.shape"
   ]
  },
  {
   "cell_type": "code",
   "execution_count": null,
   "id": "d5398615",
   "metadata": {},
   "outputs": [],
   "source": [
    "#Concatenating the dataframes into one \n",
    "urldata = pd.concat([legitimate, phishing]).reset_index(drop=True)\n",
    "urldata.head()"
   ]
  },
  {
   "cell_type": "code",
   "execution_count": null,
   "id": "5f065518",
   "metadata": {},
   "outputs": [],
   "source": [
    "urldata.shape"
   ]
  },
  {
   "cell_type": "code",
   "execution_count": null,
   "id": "055b9732",
   "metadata": {},
   "outputs": [],
   "source": [
    "# Storing the data in CSV file\n",
    "urldata.to_csv('urldata.csv', index=False)"
   ]
  },
  {
   "cell_type": "code",
   "execution_count": null,
   "id": "c5e1fc4c",
   "metadata": {},
   "outputs": [],
   "source": []
  },
  {
   "cell_type": "code",
   "execution_count": null,
   "id": "3df35f5b",
   "metadata": {},
   "outputs": [],
   "source": []
  }
 ],
 "metadata": {
  "kernelspec": {
   "display_name": "Python 3 (ipykernel)",
   "language": "python",
   "name": "python3"
  },
  "language_info": {
   "codemirror_mode": {
    "name": "ipython",
    "version": 3
   },
   "file_extension": ".py",
   "mimetype": "text/x-python",
   "name": "python",
   "nbconvert_exporter": "python",
   "pygments_lexer": "ipython3",
   "version": "3.10.9"
  }
 },
 "nbformat": 4,
 "nbformat_minor": 5
}
